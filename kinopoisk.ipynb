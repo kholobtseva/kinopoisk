{
 "cells": [
  {
   "cell_type": "markdown",
   "id": "51b97180",
   "metadata": {},
   "source": [
    "## КИНОПОИСК\n"
   ]
  },
  {
   "cell_type": "markdown",
   "id": "b3f5558c",
   "metadata": {},
   "source": [
    "Составить таблицу топ-100 фильмов с сайта https://www.kinopoisk.ru\n",
    "\n",
    "В таблицу включить следующие поля:\n",
    "    \n",
    "    оригинальное название\n",
    "    год выпуска\n",
    "    страна (-ы)\n",
    "    рейтинг Кинопоиска (в баллах)\n",
    "    место в рейтинге Кинопоиска\n",
    "\n"
   ]
  },
  {
   "cell_type": "code",
   "execution_count": 1,
   "id": "bd029778",
   "metadata": {},
   "outputs": [],
   "source": [
    "import requests\n",
    "import pandas as pd\n",
    "import json\n",
    "import numpy as np"
   ]
  },
  {
   "cell_type": "markdown",
   "id": "35aa0280",
   "metadata": {},
   "source": [
    "Отправляю get запрос к сайту https://kinopoisk.dev/ предварительно зарегистрировавшись и получив ключ (token)\n",
    "На основе документации к API формируем параметры для запроса.\n",
    "\n",
    "sortField - поле по которому проводим фильтрацию. Выбираем значение rating.kp, так как нам надо отобрать 100 фильмов с наивысшим рейтингом kp\n",
    "\n",
    "sortType - сортировку проводим в обратном порядке, от фильмов с наивысшим рейтингом kp к фильмам с наименьшим рейтингом.\n",
    "Поэтому значение для этого параметра -1\n",
    "\n",
    "page - полученные данные разместить на 1 странице\n",
    "\n",
    "limit - ограничение в 100 фильмов\n",
    "\n",
    "typeNumber - значение 1 - это movie, можно так же использовать параметр type, тогда значением будет \"movie\".\n",
    "Есть значения для сериалов, для мультфильмов. Например, если указать значение параметра 3, то получим тор 100 для мультфильмов\n",
    "\n",
    "isSeries - признак сериалов.\n",
    "\n",
    "В headers указываем для значения \"X-API-KEY\" свой ключ API (token)\n"
   ]
  },
  {
   "cell_type": "code",
   "execution_count": 4,
   "id": "3699fdda",
   "metadata": {},
   "outputs": [],
   "source": [
    "response = requests.get('https://api.kinopoisk.dev/v1.3/movie',\n",
    "                        params={\"sortField\": \"rating.kp\",\n",
    "                                \"sortType\": \"-1\",\n",
    "                                \"page\": \"1\",\n",
    "                                \"limit\": \"100\",\n",
    "                                \"typeNumber\":1,\n",
    "                                \"isSeries\":0},  \n",
    "                        headers={\"X-API-KEY\":\"XXXXXXX-XXXXXXX-XXXXXXX-XXXXXXX\"}) # Ключ API"
   ]
  },
  {
   "cell_type": "code",
   "execution_count": 5,
   "id": "09f7b0dd",
   "metadata": {},
   "outputs": [],
   "source": [
    "data = response.json()"
   ]
  },
  {
   "cell_type": "markdown",
   "id": "59e8b7f7",
   "metadata": {},
   "source": [
    "В полученном  ответе на запрос отбираем  только колонку docs, так как именно в этой колонке находится нужная информация"
   ]
  },
  {
   "cell_type": "code",
   "execution_count": 6,
   "id": "8374361d",
   "metadata": {},
   "outputs": [],
   "source": [
    "data = data['docs'] "
   ]
  },
  {
   "cell_type": "markdown",
   "id": "f07ba35e",
   "metadata": {},
   "source": [
    "Формируем датафрейм, выбирая нужные нам колонки"
   ]
  },
  {
   "cell_type": "code",
   "execution_count": 7,
   "id": "a5eaac68",
   "metadata": {},
   "outputs": [],
   "source": [
    "df = pd.DataFrame(data, columns=['name', 'alternativeName', 'year', 'countries', 'rating'])\n"
   ]
  },
  {
   "cell_type": "markdown",
   "id": "1702484b",
   "metadata": {},
   "source": [
    "Создаем колонку с местом в рейтинге на основе рейтинга ккинопоиска. Значения в этой колонке на 1 больше, чем индекс строки\n",
    "так как индексация начинается с нуля."
   ]
  },
  {
   "cell_type": "code",
   "execution_count": 8,
   "id": "7c7ca1aa",
   "metadata": {},
   "outputs": [],
   "source": [
    "df['rating_place'] = df.index+1"
   ]
  },
  {
   "cell_type": "markdown",
   "id": "98dbccda",
   "metadata": {},
   "source": [
    "Оставляем в колонке rating только рейтинг кинопоиска, для этого используя lambda функцию берем значение ключа словаря 'kp'"
   ]
  },
  {
   "cell_type": "code",
   "execution_count": 9,
   "id": "f44f2b6b",
   "metadata": {},
   "outputs": [],
   "source": [
    "df['rating'] = df['rating'].apply(lambda x: x['kp'])"
   ]
  },
  {
   "cell_type": "markdown",
   "id": "4bab565b",
   "metadata": {},
   "source": [
    "Пишем функцию для преобразования  столбца countries в строку, так как мы получаем эту колонку со значениями в виде списка, содержащего словари, в которых ключом является 'name', а значением название страны. Затем проходясь в цикле формируем строку, в которой через запятые указаны страны, если их несколько. На выход передаем эту строку."
   ]
  },
  {
   "cell_type": "code",
   "execution_count": 10,
   "id": "33d2cc16",
   "metadata": {},
   "outputs": [],
   "source": [
    "def concat_movies(sp):\n",
    "    s = []\n",
    "    sl =''\n",
    "    sp1 = len(sp)\n",
    "    for i in range(sp1):\n",
    "        s.append(list(sp[i].values())[0])\n",
    "    for i in s:\n",
    "        sl = sl + ', ' + i\n",
    "    return sl[2:]\n"
   ]
  },
  {
   "cell_type": "markdown",
   "id": "62122fcc",
   "metadata": {},
   "source": [
    "Применяем написанную функцию к каждому элементу колонки countries"
   ]
  },
  {
   "cell_type": "code",
   "execution_count": 11,
   "id": "035437c5",
   "metadata": {},
   "outputs": [],
   "source": [
    "df['countries'] = df['countries'].apply(concat_movies)"
   ]
  },
  {
   "cell_type": "markdown",
   "id": "e81f1a8a",
   "metadata": {},
   "source": [
    "Оригинальное название фильма - это название фильма, которое было ему дано при съемке в определенной стране. Исследование полей в полученном ответе с сайта показало, что это поле name для фильмов в колонке countries для которых значения соответствуют Россия, Украина, СССР. Для фильмов снятых в других странах оригинальное название находится в колонке alternativeName. В колонке name в этом случае возвращается значение None. Поэтому напишем функцию, которая будет присваивать значению name оригинальное название в зависимости от страны, где этот фильм был снят.Таким образом у нас не будет пропусков в колонке name, а названия для фильмов будут либо на русском, либо на aнглийском или допустим на французском языке, в звисимости от того, что написано в колонке alternativeName, если в колонке name значение None."
   ]
  },
  {
   "cell_type": "code",
   "execution_count": 16,
   "id": "0ab00e72",
   "metadata": {},
   "outputs": [],
   "source": [
    "def origin_name(name, alternativeName, countries):\n",
    "    if countries != 'Россия' and countries != 'СССР' and countries != 'Украина':\n",
    "        return alternativeName\n",
    "    else:\n",
    "        return name"
   ]
  },
  {
   "cell_type": "code",
   "execution_count": null,
   "id": "42fb5df2",
   "metadata": {},
   "outputs": [],
   "source": [
    "Создаем колонку name_origin, применяя написанную функцию и передаем в нее нужные ннам колонки."
   ]
  },
  {
   "cell_type": "code",
   "execution_count": 17,
   "id": "905c2034",
   "metadata": {},
   "outputs": [],
   "source": [
    "df['name_origin']= df[['name', 'alternativeName', 'countries']].apply(lambda df: origin_name(df['name'], df['alternativeName'], df['countries']), axis=1)"
   ]
  },
  {
   "cell_type": "markdown",
   "id": "89fca099",
   "metadata": {},
   "source": [
    "Можно произвести векторизацию нашей функции, тогда она будет работать быстрее как функции, которые создавались специально для pandas."
   ]
  },
  {
   "cell_type": "code",
   "execution_count": 18,
   "id": "9cb6418d",
   "metadata": {},
   "outputs": [],
   "source": [
    "df['name_origin']= np.vectorize(origin_name)(df['name'], df['alternativeName'], df['countries'])"
   ]
  },
  {
   "cell_type": "code",
   "execution_count": 19,
   "id": "58159451",
   "metadata": {},
   "outputs": [],
   "source": [
    "df['name'] = df['name_origin']"
   ]
  },
  {
   "cell_type": "markdown",
   "id": "731819e1",
   "metadata": {},
   "source": [
    "Удаляем колонку 'name_origin' так как мы уже перенесли названия фильмов в колонку name"
   ]
  },
  {
   "cell_type": "code",
   "execution_count": 20,
   "id": "b2cca4e0",
   "metadata": {},
   "outputs": [],
   "source": [
    "df.drop(['name_origin'], axis = 1,inplace=True)"
   ]
  },
  {
   "cell_type": "markdown",
   "id": "d4191606",
   "metadata": {},
   "source": [
    "Оставляем в датафрейме нужные нам колонки"
   ]
  },
  {
   "cell_type": "code",
   "execution_count": 21,
   "id": "fa5f40e1",
   "metadata": {},
   "outputs": [],
   "source": [
    "df = df[['name', 'year', 'countries', 'rating','rating_place']]"
   ]
  },
  {
   "cell_type": "code",
   "execution_count": 22,
   "id": "b3a44975",
   "metadata": {},
   "outputs": [
    {
     "data": {
      "text/html": [
       "<div>\n",
       "<style scoped>\n",
       "    .dataframe tbody tr th:only-of-type {\n",
       "        vertical-align: middle;\n",
       "    }\n",
       "\n",
       "    .dataframe tbody tr th {\n",
       "        vertical-align: top;\n",
       "    }\n",
       "\n",
       "    .dataframe thead th {\n",
       "        text-align: right;\n",
       "    }\n",
       "</style>\n",
       "<table border=\"1\" class=\"dataframe\">\n",
       "  <thead>\n",
       "    <tr style=\"text-align: right;\">\n",
       "      <th></th>\n",
       "      <th>name</th>\n",
       "      <th>year</th>\n",
       "      <th>countries</th>\n",
       "      <th>rating</th>\n",
       "      <th>rating_place</th>\n",
       "    </tr>\n",
       "  </thead>\n",
       "  <tbody>\n",
       "    <tr>\n",
       "      <th>0</th>\n",
       "      <td>Lords of the Lockerroom</td>\n",
       "      <td>1999</td>\n",
       "      <td>США</td>\n",
       "      <td>9.399</td>\n",
       "      <td>1</td>\n",
       "    </tr>\n",
       "    <tr>\n",
       "      <th>1</th>\n",
       "      <td>BTS: Blood Sweat &amp; Tears</td>\n",
       "      <td>2016</td>\n",
       "      <td>Корея Южная</td>\n",
       "      <td>9.352</td>\n",
       "      <td>2</td>\n",
       "    </tr>\n",
       "    <tr>\n",
       "      <th>2</th>\n",
       "      <td>Hamilton's America</td>\n",
       "      <td>2016</td>\n",
       "      <td>США</td>\n",
       "      <td>9.245</td>\n",
       "      <td>3</td>\n",
       "    </tr>\n",
       "    <tr>\n",
       "      <th>3</th>\n",
       "      <td>Threat Level Midnight: The Movie</td>\n",
       "      <td>2011</td>\n",
       "      <td>Великобритания, США</td>\n",
       "      <td>9.232</td>\n",
       "      <td>4</td>\n",
       "    </tr>\n",
       "    <tr>\n",
       "      <th>4</th>\n",
       "      <td>Жизнь человека. Последнее интервью</td>\n",
       "      <td>2020</td>\n",
       "      <td>Россия</td>\n",
       "      <td>9.180</td>\n",
       "      <td>5</td>\n",
       "    </tr>\n",
       "    <tr>\n",
       "      <th>5</th>\n",
       "      <td>Boosh Music</td>\n",
       "      <td>2005</td>\n",
       "      <td>Великобритания</td>\n",
       "      <td>9.169</td>\n",
       "      <td>6</td>\n",
       "    </tr>\n",
       "    <tr>\n",
       "      <th>6</th>\n",
       "      <td>Depeche Mode: Devotional</td>\n",
       "      <td>1993</td>\n",
       "      <td>Великобритания</td>\n",
       "      <td>9.166</td>\n",
       "      <td>7</td>\n",
       "    </tr>\n",
       "    <tr>\n",
       "      <th>7</th>\n",
       "      <td>Он вам не Димон</td>\n",
       "      <td>2017</td>\n",
       "      <td>Россия</td>\n",
       "      <td>9.127</td>\n",
       "      <td>8</td>\n",
       "    </tr>\n",
       "    <tr>\n",
       "      <th>8</th>\n",
       "      <td>The Shawshank Redemption</td>\n",
       "      <td>1994</td>\n",
       "      <td>США</td>\n",
       "      <td>9.108</td>\n",
       "      <td>9</td>\n",
       "    </tr>\n",
       "    <tr>\n",
       "      <th>9</th>\n",
       "      <td>The Green Mile</td>\n",
       "      <td>1999</td>\n",
       "      <td>США</td>\n",
       "      <td>9.074</td>\n",
       "      <td>10</td>\n",
       "    </tr>\n",
       "  </tbody>\n",
       "</table>\n",
       "</div>"
      ],
      "text/plain": [
       "                                 name  year            countries  rating  \\\n",
       "0             Lords of the Lockerroom  1999                  США   9.399   \n",
       "1            BTS: Blood Sweat & Tears  2016          Корея Южная   9.352   \n",
       "2                  Hamilton's America  2016                  США   9.245   \n",
       "3    Threat Level Midnight: The Movie  2011  Великобритания, США   9.232   \n",
       "4  Жизнь человека. Последнее интервью  2020               Россия   9.180   \n",
       "5                         Boosh Music  2005       Великобритания   9.169   \n",
       "6            Depeche Mode: Devotional  1993       Великобритания   9.166   \n",
       "7                     Он вам не Димон  2017               Россия   9.127   \n",
       "8            The Shawshank Redemption  1994                  США   9.108   \n",
       "9                      The Green Mile  1999                  США   9.074   \n",
       "\n",
       "   rating_place  \n",
       "0             1  \n",
       "1             2  \n",
       "2             3  \n",
       "3             4  \n",
       "4             5  \n",
       "5             6  \n",
       "6             7  \n",
       "7             8  \n",
       "8             9  \n",
       "9            10  "
      ]
     },
     "execution_count": 22,
     "metadata": {},
     "output_type": "execute_result"
    }
   ],
   "source": [
    "df.head(10) # выводим для примера 10 строк из получившейся таблицы."
   ]
  },
  {
   "cell_type": "code",
   "execution_count": 23,
   "id": "39e72d54",
   "metadata": {},
   "outputs": [
    {
     "data": {
      "text/html": [
       "<div>\n",
       "<style scoped>\n",
       "    .dataframe tbody tr th:only-of-type {\n",
       "        vertical-align: middle;\n",
       "    }\n",
       "\n",
       "    .dataframe tbody tr th {\n",
       "        vertical-align: top;\n",
       "    }\n",
       "\n",
       "    .dataframe thead th {\n",
       "        text-align: right;\n",
       "    }\n",
       "</style>\n",
       "<table border=\"1\" class=\"dataframe\">\n",
       "  <thead>\n",
       "    <tr style=\"text-align: right;\">\n",
       "      <th></th>\n",
       "      <th>name</th>\n",
       "      <th>year</th>\n",
       "      <th>countries</th>\n",
       "      <th>rating</th>\n",
       "      <th>rating_place</th>\n",
       "    </tr>\n",
       "  </thead>\n",
       "  <tbody>\n",
       "    <tr>\n",
       "      <th>0</th>\n",
       "      <td>Lords of the Lockerroom</td>\n",
       "      <td>1999</td>\n",
       "      <td>США</td>\n",
       "      <td>9.399</td>\n",
       "      <td>1</td>\n",
       "    </tr>\n",
       "    <tr>\n",
       "      <th>1</th>\n",
       "      <td>BTS: Blood Sweat &amp; Tears</td>\n",
       "      <td>2016</td>\n",
       "      <td>Корея Южная</td>\n",
       "      <td>9.352</td>\n",
       "      <td>2</td>\n",
       "    </tr>\n",
       "    <tr>\n",
       "      <th>2</th>\n",
       "      <td>Hamilton's America</td>\n",
       "      <td>2016</td>\n",
       "      <td>США</td>\n",
       "      <td>9.245</td>\n",
       "      <td>3</td>\n",
       "    </tr>\n",
       "    <tr>\n",
       "      <th>3</th>\n",
       "      <td>Threat Level Midnight: The Movie</td>\n",
       "      <td>2011</td>\n",
       "      <td>Великобритания, США</td>\n",
       "      <td>9.232</td>\n",
       "      <td>4</td>\n",
       "    </tr>\n",
       "    <tr>\n",
       "      <th>4</th>\n",
       "      <td>Жизнь человека. Последнее интервью</td>\n",
       "      <td>2020</td>\n",
       "      <td>Россия</td>\n",
       "      <td>9.180</td>\n",
       "      <td>5</td>\n",
       "    </tr>\n",
       "    <tr>\n",
       "      <th>...</th>\n",
       "      <td>...</td>\n",
       "      <td>...</td>\n",
       "      <td>...</td>\n",
       "      <td>...</td>\n",
       "      <td>...</td>\n",
       "    </tr>\n",
       "    <tr>\n",
       "      <th>95</th>\n",
       "      <td>Дальше — тишина</td>\n",
       "      <td>1978</td>\n",
       "      <td>СССР</td>\n",
       "      <td>8.729</td>\n",
       "      <td>96</td>\n",
       "    </tr>\n",
       "    <tr>\n",
       "      <th>96</th>\n",
       "      <td>Без срока давности. Пепел «Зимнего волшебства»</td>\n",
       "      <td>2017</td>\n",
       "      <td>Россия</td>\n",
       "      <td>8.728</td>\n",
       "      <td>97</td>\n",
       "    </tr>\n",
       "    <tr>\n",
       "      <th>97</th>\n",
       "      <td>Pink Floyd: P. U. L. S. E. Live at Earls Court</td>\n",
       "      <td>1994</td>\n",
       "      <td>Великобритания</td>\n",
       "      <td>8.726</td>\n",
       "      <td>98</td>\n",
       "    </tr>\n",
       "    <tr>\n",
       "      <th>98</th>\n",
       "      <td>Giuseppe Moscati: L'amore che guarisce</td>\n",
       "      <td>2007</td>\n",
       "      <td>Италия</td>\n",
       "      <td>8.726</td>\n",
       "      <td>99</td>\n",
       "    </tr>\n",
       "    <tr>\n",
       "      <th>99</th>\n",
       "      <td>Frankenstein</td>\n",
       "      <td>2011</td>\n",
       "      <td>Великобритания</td>\n",
       "      <td>8.722</td>\n",
       "      <td>100</td>\n",
       "    </tr>\n",
       "  </tbody>\n",
       "</table>\n",
       "<p>100 rows × 5 columns</p>\n",
       "</div>"
      ],
      "text/plain": [
       "                                              name  year            countries  \\\n",
       "0                          Lords of the Lockerroom  1999                  США   \n",
       "1                         BTS: Blood Sweat & Tears  2016          Корея Южная   \n",
       "2                               Hamilton's America  2016                  США   \n",
       "3                 Threat Level Midnight: The Movie  2011  Великобритания, США   \n",
       "4               Жизнь человека. Последнее интервью  2020               Россия   \n",
       "..                                             ...   ...                  ...   \n",
       "95                                 Дальше — тишина  1978                 СССР   \n",
       "96  Без срока давности. Пепел «Зимнего волшебства»  2017               Россия   \n",
       "97  Pink Floyd: P. U. L. S. E. Live at Earls Court  1994       Великобритания   \n",
       "98          Giuseppe Moscati: L'amore che guarisce  2007               Италия   \n",
       "99                                    Frankenstein  2011       Великобритания   \n",
       "\n",
       "    rating  rating_place  \n",
       "0    9.399             1  \n",
       "1    9.352             2  \n",
       "2    9.245             3  \n",
       "3    9.232             4  \n",
       "4    9.180             5  \n",
       "..     ...           ...  \n",
       "95   8.729            96  \n",
       "96   8.728            97  \n",
       "97   8.726            98  \n",
       "98   8.726            99  \n",
       "99   8.722           100  \n",
       "\n",
       "[100 rows x 5 columns]"
      ]
     },
     "execution_count": 23,
     "metadata": {},
     "output_type": "execute_result"
    }
   ],
   "source": [
    "df.head(100) # пять строк от начала и 5 строк от конца датафрейма."
   ]
  },
  {
   "cell_type": "markdown",
   "id": "a46fc6a1",
   "metadata": {},
   "source": [
    "По результатам выборки хочу обратить внимание на возможные расхождения при проверке данного списка на сайте кинопоиска\n",
    "https://www.kinopoisk.ru/top/navigator/m_act[is_film]/on/order/rating/#results\n",
    "Как выяснилось, фильтрация в предложенном API отличается от фильтрации пользователем на сайте. К нам в выборку фильмы попадают на основе рейтинга и параметра type, где для них указано значение movie."
   ]
  },
  {
   "cell_type": "markdown",
   "id": "7a86d4a0",
   "metadata": {},
   "source": [
    "Выводим получившийся датафрейм в таблицу Excel."
   ]
  },
  {
   "cell_type": "code",
   "execution_count": 24,
   "id": "61564ee4",
   "metadata": {},
   "outputs": [],
   "source": [
    "df.to_excel('top100_films.xlsx', index=False)"
   ]
  },
  {
   "cell_type": "code",
   "execution_count": null,
   "id": "cdffc5c9",
   "metadata": {},
   "outputs": [],
   "source": []
  }
 ],
 "metadata": {
  "kernelspec": {
   "display_name": "Python 3 (ipykernel)",
   "language": "python",
   "name": "python3"
  },
  "language_info": {
   "codemirror_mode": {
    "name": "ipython",
    "version": 3
   },
   "file_extension": ".py",
   "mimetype": "text/x-python",
   "name": "python",
   "nbconvert_exporter": "python",
   "pygments_lexer": "ipython3",
   "version": "3.9.16"
  }
 },
 "nbformat": 4,
 "nbformat_minor": 5
}
